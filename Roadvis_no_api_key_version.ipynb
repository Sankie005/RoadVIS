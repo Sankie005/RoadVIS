{
 "cells": [
  {
   "attachments": {},
   "cell_type": "markdown",
   "metadata": {},
   "source": [
    "#Hey there! \n",
    "I've tried my best to make this as easy as possible to run but ideally i'd really like it if you got on call and we were able to demo it for you, we already ship the best.pt file so there is no need to train the model, please create and use a python 3.11 virtual environment with ipykernel to run it, if you have further questions or get an error at anypoint, please reach out to me at sankritya0@gmail.com\n",
    "Furthermore i'm unfortunately not able to share the source code for our roboflow integration as it has our personal API keys present and as per the guidelines we are restricted from sharing these with anyone else apart from our team, thanks for understanding. \n",
    "\n",
    "![roadvis logo](logo_roadvis.png)\n",
    "\n",
    "\n",
    " -Sankritya "
   ]
  },
  {
   "attachments": {},
   "cell_type": "markdown",
   "metadata": {},
   "source": [
    "#STEP 1\n",
    "1. Importing the necessary libraries \n",
    "2. Verifying we have the correct version of PyTorch installed \n"
   ]
  },
  {
   "cell_type": "code",
   "execution_count": null,
   "metadata": {},
   "outputs": [],
   "source": [
    "!pip install ultralytics\n",
    "!pip install simple-image-download"
   ]
  },
  {
   "cell_type": "code",
   "execution_count": null,
   "metadata": {},
   "outputs": [],
   "source": [
    "!pip install labelImg #this does not work on python 3.11, please create a python 3.9 virtual environment and then run it "
   ]
  },
  {
   "cell_type": "code",
   "execution_count": null,
   "metadata": {},
   "outputs": [],
   "source": [
    "!pip3 install torch torchvision torchaudio --index-url https://download.pytorch.org/whl/cu117 #go to pytorch.org to get a version that matches your system "
   ]
  },
  {
   "attachments": {},
   "cell_type": "markdown",
   "metadata": {},
   "source": [
    "#STEP 2 (we've already created and labelled our dataset)\n",
    "1. Downloading images to create a dataset\n",
    "2. Annotation using LabelImg to create a dataset"
   ]
  },
  {
   "cell_type": "code",
   "execution_count": null,
   "metadata": {},
   "outputs": [],
   "source": [
    "from simple_image_download import simple_image_download as simp \n",
    "response=simp.Downloader\n",
    "keywords=[\"pothole\"]\n",
    "for kw in keywords: \n",
    "    response().download(kw,4000)"
   ]
  },
  {
   "cell_type": "code",
   "execution_count": 29,
   "metadata": {},
   "outputs": [],
   "source": [
    "!labelImg ##this does not work yet on python 3.11 use python 3.9 to run these commands "
   ]
  },
  {
   "attachments": {},
   "cell_type": "markdown",
   "metadata": {},
   "source": [
    "#STEP 3 (Model has already been trained,you donot have to train it again, unless you'd like to?)\n",
    "1. Training the model\n",
    "2. Yolo: Calls The YOLOV8 model from ultralytics\n",
    "3. Detect: Calls The Object Detection Version \n",
    "4. Train: Puts Yolov8 into training mode\n",
    "5. Data: Name/Location Of .YAML file that contains the source of data \n",
    "6. Model: Which Specific Yolov8 model you'd like to use \n",
    "7. epochs: Total Number Of Iterations Of The training Data \n",
    "8. Imgsz: autmatically resizes the images to 640x640p for faster training \n",
    "9. Batch: Specifiy the amount of VRAM to be used (only on CUDA compatible GPUs)"
   ]
  },
  {
   "cell_type": "code",
   "execution_count": null,
   "metadata": {},
   "outputs": [],
   "source": [
    "!yolo detect train data=data.yaml model=yolov8n.pt epochs=100 imgsz=640 batch=2 "
   ]
  },
  {
   "attachments": {},
   "cell_type": "markdown",
   "metadata": {},
   "source": [
    "#STEP 4 \n",
    "1. Running the inference \n",
    "2. Go to runs-> detect -> trainx (x representing any number) (i've done this step for you)\n",
    "3. Go to the weights folder (i've done this step for you)\n",
    "4. Copy the best.pt file and paste it into the main folder (ive already done this step for you) \n",
    "5. Task: What do you want it to do, in our case we want it to detect something\n",
    "6. Mode: Puts model into prediction mode \n",
    "7. Model: Name of weights file, by default it's best.pt \n",
    "8. Source: Source of input video or image to be tested "
   ]
  },
  {
   "cell_type": "code",
   "execution_count": null,
   "metadata": {},
   "outputs": [],
   "source": [
    "!yolo detect predict model=best.pt source='test.mp4' conf=0.5 "
   ]
  }
 ],
 "metadata": {
  "kernelspec": {
   "display_name": ".venv",
   "language": "python",
   "name": "python3"
  },
  "language_info": {
   "codemirror_mode": {
    "name": "ipython",
    "version": 3
   },
   "file_extension": ".py",
   "mimetype": "text/x-python",
   "name": "python",
   "nbconvert_exporter": "python",
   "pygments_lexer": "ipython3",
   "version": "3.11.3"
  },
  "orig_nbformat": 4
 },
 "nbformat": 4,
 "nbformat_minor": 2
}
